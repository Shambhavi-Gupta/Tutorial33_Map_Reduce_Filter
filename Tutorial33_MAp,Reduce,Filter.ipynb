{
  "nbformat": 4,
  "nbformat_minor": 0,
  "metadata": {
    "colab": {
      "name": "Tutorial33_MAp,Reduce,Filter.ipynb",
      "provenance": [],
      "authorship_tag": "ABX9TyMMwY0fUP/7Zmjy6OpAU8IU",
      "include_colab_link": true
    },
    "kernelspec": {
      "name": "python3",
      "display_name": "Python 3"
    }
  },
  "cells": [
    {
      "cell_type": "markdown",
      "metadata": {
        "id": "view-in-github",
        "colab_type": "text"
      },
      "source": [
        "<a href=\"https://colab.research.google.com/github/Shambhavi-Gupta/Tutorial33_Map_Reduce_Filter/blob/main/Tutorial33_MAp%2CReduce%2CFilter.ipynb\" target=\"_parent\"><img src=\"https://colab.research.google.com/assets/colab-badge.svg\" alt=\"Open In Colab\"/></a>"
      ]
    },
    {
      "cell_type": "code",
      "metadata": {
        "id": "RlNAoEGIX0nF"
      },
      "source": [
        "#*************** MAP *******************\r\n",
        "\r\n",
        "# numbers = [\"1\",\"2\",\"3\",\"4\"]\r\n",
        "# numbers = list(map(int, numbers))\r\n",
        "#\r\n",
        "# # for i in range(len(numbers)):\r\n",
        "# #   numbers[i] = int(numbers[i])\r\n",
        "# #\r\n",
        "# numbers[2] = numbers[2] + 1\r\n",
        "# print(numbers[2])\r\n",
        "#\r\n",
        "# num = [5,6,7,8,2,3,4]\r\n",
        "# sq = list(map(lambda x: x*x, num))\r\n",
        "# print(sq)\r\n",
        "\r\n",
        "# def square(a):\r\n",
        "#     return a*a\r\n",
        "#\r\n",
        "# def cube(a):\r\n",
        "#     return a*a*a\r\n",
        "#\r\n",
        "# function = [square, cube]\r\n",
        "# for i in range(4):\r\n",
        "#     value = list(map(lambda x:x(i) , function))\r\n",
        "#     print(value)\r\n",
        "\r\n",
        "# ************** FILTER **************\r\n",
        "\r\n",
        "# list1 = [1,2,3,4,5]\r\n",
        "# def greater(number):\r\n",
        "#     return number>1\r\n",
        "#\r\n",
        "# greater = list(filter(greater,list1))\r\n",
        "#print(greater)\r\n",
        "\r\n",
        "#*************** REDUCE ****************\r\n",
        "\r\n",
        "from functools import reduce\r\n",
        "\r\n",
        "list2 = [5,6,7,8,9]\r\n",
        "# num=0\r\n",
        "# for i in list2:\r\n",
        "#     num = num+i\r\n",
        "# print(num)\r\n",
        "\r\n",
        "num = reduce(lambda x,y:x+y,list2)\r\n",
        "print(num)\r\n"
      ],
      "execution_count": null,
      "outputs": []
    }
  ]
}